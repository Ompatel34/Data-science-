{
 "cells": [
  {
   "cell_type": "code",
   "execution_count": 38,
   "metadata": {},
   "outputs": [
    {
     "name": "stdout",
     "output_type": "stream",
     "text": [
      "     MatchID  InningsNo Team           PlayerName  Overs  Maidens  Runs  \\\n",
      "0          1          1  KKR          Umesh Yadav    4.0        0    20   \n",
      "1          1          1  KKR          Shivam Mavi    4.0        0    35   \n",
      "2          1          1  KKR  Varun Chakaravarthy    4.0        0    23   \n",
      "3          1          1  KKR         Sunil Narine    4.0        0    15   \n",
      "4          1          1  KKR        Andre Russell    4.0        0    38   \n",
      "..       ...        ...  ...                  ...    ...      ...   ...   \n",
      "852       76          2   RR          Trent Boult    4.0        1    14   \n",
      "853       76          2   RR      Prasidh Krishna    4.0        0    40   \n",
      "854       76          2   RR     Yuzvendra Chahal    4.0        0    20   \n",
      "855       76          2   RR           Obed McCoy    3.1        0    26   \n",
      "856       76          2   RR  Ravichandran Ashwin    3.0        0    32   \n",
      "\n",
      "     Wickets  Wides  NoBalls  Economy  BowlingOrder  TotalLegalBallsBowled  \\\n",
      "0          2      2        1     5.00             1                     24   \n",
      "1          0      1        1     8.75             2                     24   \n",
      "2          1      1        0     5.75             3                     24   \n",
      "3          0      0        0     3.75             4                     24   \n",
      "4          1      0        0     9.50             5                     24   \n",
      "..       ...    ...      ...      ...           ...                    ...   \n",
      "852        1      2        0     3.50             1                     24   \n",
      "853        1      2        0    10.00             2                     24   \n",
      "854        1      0        0     5.00             3                     24   \n",
      "855        0      0        0     8.21             4                     19   \n",
      "856        0      0        0    10.67             5                     18   \n",
      "\n",
      "     DotBalls  Ones  Twos  Threes  Fours  Sixes  StrikeRate  \n",
      "0          15     7     0       0      1      1        12.0  \n",
      "1          12     7     1       0      3      2         0.0  \n",
      "2          11    10     1       0      1      1        24.0  \n",
      "3          10    13     1       0      0      0         0.0  \n",
      "4           7    10     1       0      5      1        24.0  \n",
      "..        ...   ...   ...     ...    ...    ...         ...  \n",
      "852        17     4     2       0      1      0        24.0  \n",
      "853        13     2     3       0      6      1        24.0  \n",
      "854        10    10     3       0      1      0        24.0  \n",
      "855         5    10     1       0      2      1         0.0  \n",
      "856         2    10     3       0      1      2         0.0  \n",
      "\n",
      "[857 rows x 20 columns]\n"
     ]
    },
    {
     "ename": "NameError",
     "evalue": "name 'bowling' is not defined",
     "output_type": "error",
     "traceback": [
      "\u001b[1;31m---------------------------------------------------------------------------\u001b[0m",
      "\u001b[1;31mNameError\u001b[0m                                 Traceback (most recent call last)",
      "Cell \u001b[1;32mIn[38], line 12\u001b[0m\n\u001b[0;32m     10\u001b[0m \u001b[38;5;28mprint\u001b[39m(my_df)\n\u001b[0;32m     11\u001b[0m target_column \u001b[38;5;241m=\u001b[39m \u001b[38;5;124m'\u001b[39m\u001b[38;5;124mruns\u001b[39m\u001b[38;5;124m'\u001b[39m\n\u001b[1;32m---> 12\u001b[0m target \u001b[38;5;241m=\u001b[39m \u001b[43mbowling\u001b[49m[target_column]\n\u001b[0;32m     13\u001b[0m \u001b[38;5;28mprint\u001b[39m(target)\n",
      "\u001b[1;31mNameError\u001b[0m: name 'bowling' is not defined"
     ]
    }
   ],
   "source": [
    "import pandas as pd\n",
    "\n",
    "# Assuming 'bowling.csv' is your CSV file containing the data\n",
    "file_path = r'C:\\Users\\hp\\Desktop\\New folder\\bowling.csv'\n",
    "\n",
    "# Creating a DataFrame from the CSV file\n",
    "my_df = pd.read_csv(r'C:\\Users\\hp\\Desktop\\New folder\\bowling.csv')\n",
    "\n",
    "# Displaying the DataFrame\n",
    "print(my_df)\n"
   ]
  },
  {
   "cell_type": "code",
   "execution_count": 41,
   "metadata": {},
   "outputs": [
    {
     "name": "stdout",
     "output_type": "stream",
     "text": [
      "Index(['MatchID', 'InningsNo', 'Team', 'PlayerName', 'Overs', 'Maidens',\n",
      "       'Runs', 'Wickets', 'Wides', 'NoBalls', 'Economy', 'BowlingOrder',\n",
      "       'TotalLegalBallsBowled', 'DotBalls', 'Ones', 'Twos', 'Threes', 'Fours',\n",
      "       'Sixes', 'StrikeRate'],\n",
      "      dtype='object')\n",
      "0      20\n",
      "1      35\n",
      "2      23\n",
      "3      15\n",
      "4      38\n",
      "       ..\n",
      "852    14\n",
      "853    40\n",
      "854    20\n",
      "855    26\n",
      "856    32\n",
      "Name: Runs, Length: 857, dtype: int64\n",
      "   MatchID  InningsNo Team           PlayerName  Overs  Maidens  Runs  \\\n",
      "0        1          1  KKR          Umesh Yadav    4.0        0    20   \n",
      "1        1          1  KKR          Shivam Mavi    4.0        0    35   \n",
      "2        1          1  KKR  Varun Chakaravarthy    4.0        0    23   \n",
      "3        1          1  KKR         Sunil Narine    4.0        0    15   \n",
      "4        1          1  KKR        Andre Russell    4.0        0    38   \n",
      "\n",
      "   Wickets  Wides  NoBalls  Economy  BowlingOrder  TotalLegalBallsBowled  \\\n",
      "0        2      2        1     5.00             1                     24   \n",
      "1        0      1        1     8.75             2                     24   \n",
      "2        1      1        0     5.75             3                     24   \n",
      "3        0      0        0     3.75             4                     24   \n",
      "4        1      0        0     9.50             5                     24   \n",
      "\n",
      "   DotBalls  Ones  Twos  Threes  Fours  Sixes  StrikeRate  \n",
      "0        15     7     0       0      1      1        12.0  \n",
      "1        12     7     1       0      3      2         0.0  \n",
      "2        11    10     1       0      1      1        24.0  \n",
      "3        10    13     1       0      0      0         0.0  \n",
      "4         7    10     1       0      5      1        24.0  \n"
     ]
    }
   ],
   "source": [
    "import pandas as pd\n",
    "\n",
    "# Load the dataset into a DataFrame\n",
    "file_path = r'C:\\Users\\hp\\Desktop\\New folder\\bowling.csv'\n",
    "my_df = pd.read_csv(r'C:\\Users\\hp\\Desktop\\New folder\\bowling.csv')\n",
    "\n",
    "# Assuming 'Score' is the target column\n",
    "target_column = 'Runs'\n",
    "\n",
    "# Check the columns in your DataFrame to verify the column names\n",
    "print(my_df.columns)\n",
    "\n",
    "# Extract the target variable (Score) into a separate variable\n",
    "target = my_df[target_column]\n",
    "\n",
    "# Now 'target' contains the values of the 'Score' column, which can be used for further analysis or prediction tasks\n",
    "print(target)\n",
    "print(my_df.head())\n"
   ]
  }
 ],
 "metadata": {
  "kernelspec": {
   "display_name": "Python 3",
   "language": "python",
   "name": "python3"
  },
  "language_info": {
   "codemirror_mode": {
    "name": "ipython",
    "version": 3
   },
   "file_extension": ".py",
   "mimetype": "text/x-python",
   "name": "python",
   "nbconvert_exporter": "python",
   "pygments_lexer": "ipython3",
   "version": "3.11.0"
  }
 },
 "nbformat": 4,
 "nbformat_minor": 2
}
